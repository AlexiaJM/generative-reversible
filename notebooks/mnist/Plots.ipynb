{
 "cells": [
  {
   "cell_type": "code",
   "execution_count": null,
   "metadata": {},
   "outputs": [],
   "source": [
    "import numpy as np\n",
    "import matplotlib\n",
    "from matplotlib import pyplot as plt\n",
    "from matplotlib import cm\n",
    "%matplotlib inline\n",
    "%config InlineBackend.figure_format = 'png'\n",
    "matplotlib.rcParams['figure.figsize'] = (12.0, 4.0)\n",
    "matplotlib.rcParams['font.size'] = 7\n",
    "\n",
    "import matplotlib.lines as mlines\n",
    "import seaborn\n",
    "seaborn.set_style('darkgrid')\n",
    "import logging\n",
    "import importlib\n",
    "importlib.reload(logging) # see https://stackoverflow.com/a/21475297/1469195\n",
    "log = logging.getLogger()\n",
    "log.setLevel('DEBUG')\n",
    "import sys\n",
    "logging.basicConfig(format='%(asctime)s %(levelname)s : %(message)s',\n",
    "                     level=logging.DEBUG, stream=sys.stdout)\n",
    "seaborn.set_palette('colorblind')\n",
    "import os"
   ]
  },
  {
   "cell_type": "code",
   "execution_count": null,
   "metadata": {
    "collapsed": true
   },
   "outputs": [],
   "source": [
    "# Previously trained model\n",
    "load_folder = '/data//schirrmr/schirrmr/reversible-icml/models/mnist/OptimalTransportPerClassClampedStd/2599/'"
   ]
  },
  {
   "cell_type": "code",
   "execution_count": null,
   "metadata": {},
   "outputs": [],
   "source": [
    "import itertools\n",
    "from reversible.plot import create_bw_image\n",
    "\n",
    "import torch\n",
    "import torch.nn as nn\n",
    "import torch.nn.functional as F\n",
    "from torch.autograd import Variable\n",
    "import numpy as np"
   ]
  },
  {
   "cell_type": "code",
   "execution_count": null,
   "metadata": {},
   "outputs": [],
   "source": [
    "from reversible.util import set_random_seeds\n",
    "from reversible.revnet import init_model_params\n",
    "import torch as th\n",
    "from reversible.models import create_MNIST_model\n",
    "th.backends.cudnn.benchmark = True\n",
    "set_random_seeds(34093049, True)\n",
    "feature_model = create_MNIST_model()\n",
    "\n",
    "feature_model = feature_model.cuda()\n",
    "\n",
    "n_dims = 1024\n",
    "\n",
    "import torch as th\n",
    "means_per_cluster = th.load(load_folder + '/means.pkl')\n",
    "\n",
    "stds_per_cluster = th.load(load_folder + '/stds.pkl')\n",
    "feature_model.load_state_dict(th.load(load_folder + '/model_dict.pkl'))"
   ]
  },
  {
   "cell_type": "markdown",
   "metadata": {},
   "source": [
    "## Samples"
   ]
  },
  {
   "cell_type": "code",
   "execution_count": null,
   "metadata": {},
   "outputs": [],
   "source": [
    "from reversible.gaussian import get_gauss_samples\n",
    "from reversible.revnet import invert\n",
    "from reversible.util import np_to_var, var_to_np\n",
    "set_random_seeds(20180801, True)\n",
    "all_examples = []\n",
    "for i_class in range(len(means_per_cluster)):\n",
    "    samples = get_gauss_samples(10, means_per_cluster[i_class], stds_per_cluster[i_class],)\n",
    "    inverted = var_to_np(invert(feature_model, samples)).astype(np.float64)\n",
    "    all_examples.append(inverted)\n",
    "all_examples = np.concatenate(all_examples)\n",
    "\n",
    "all_examples = all_examples.reshape(10,10,28,28)\n",
    "\n",
    "im = create_bw_image(1 - all_examples).resize((20*28,20*28))\n",
    "\n",
    "display(im)"
   ]
  },
  {
   "cell_type": "markdown",
   "metadata": {},
   "source": [
    "## Varying latent dimensions"
   ]
  },
  {
   "cell_type": "markdown",
   "metadata": {},
   "source": [
    "Results somewhat different from paper"
   ]
  },
  {
   "cell_type": "code",
   "execution_count": null,
   "metadata": {
    "collapsed": true
   },
   "outputs": [],
   "source": [
    "global_std = th.mean(th.stack(stds_per_cluster, dim=0), dim=0)\n",
    "\n",
    "i_std_1, i_std_2, i_std_3,i_std_4 = np.argsort(var_to_np(global_std))[::-1][:4]"
   ]
  },
  {
   "cell_type": "code",
   "execution_count": null,
   "metadata": {
    "scrolled": false
   },
   "outputs": [],
   "source": [
    "n_examples_per_dim = 9\n",
    "for i_cluster in range(len(means_per_cluster)):\n",
    "    image_grid = np.zeros((4, n_examples_per_dim, 28,28))\n",
    "    for i_i_std, i_feature_a in enumerate([i_std_1, i_std_2, i_std_3,i_std_4]):\n",
    "        mean = means_per_cluster[i_cluster]\n",
    "        std = stds_per_cluster[i_cluster]\n",
    "        feature_a_values = th.linspace(float(mean[i_feature_a].data - 2 * std[i_feature_a].data),\n",
    "                                       float(mean[i_feature_a].data + 2 * std[i_feature_a].data),\n",
    "                                      n_examples_per_dim)\n",
    "\n",
    "    \n",
    "\n",
    "        for i_f_a_val, f_a_val in enumerate(feature_a_values):\n",
    "            this_out = mean.clone()\n",
    "            this_out.data[i_feature_a] = f_a_val\n",
    "            inverted = var_to_np(invert(feature_model, this_out.unsqueeze(0))[0]).squeeze()\n",
    "            image_grid[i_i_std, i_f_a_val] = np.copy(inverted)\n",
    "    im = create_bw_image(1-image_grid).resize((9*2*28,4*2*28))\n",
    "    display(im)"
   ]
  }
 ],
 "metadata": {
  "celltoolbar": "Edit Metadata",
  "kernelspec": {
   "display_name": "Python 3",
   "language": "python",
   "name": "python3"
  },
  "language_info": {
   "codemirror_mode": {
    "name": "ipython",
    "version": 3
   },
   "file_extension": ".py",
   "mimetype": "text/x-python",
   "name": "python",
   "nbconvert_exporter": "python",
   "pygments_lexer": "ipython3",
   "version": "3.6.6"
  }
 },
 "nbformat": 4,
 "nbformat_minor": 2
}
